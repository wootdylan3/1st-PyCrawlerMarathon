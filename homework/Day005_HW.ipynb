{
 "cells": [
  {
   "cell_type": "markdown",
   "metadata": {},
   "source": [
    "# API 資料串接 - 以 Dcard API 實作範例\n",
    "\n",
    "* 了解 Dcard API 使用方式與回傳內容\n",
    "* 撰寫程式存取 API 且解析 JSON 格式資料\n"
   ]
  },
  {
   "cell_type": "markdown",
   "metadata": {},
   "source": [
    "## 作業目標\n",
    "\n",
    "* 請利用 API: https://www.dcard.tw/_api/forums/pet/posts?popular=true 回答下列問題：\n",
    "\n",
    "1. 這個 API 一次會回傳幾筆資料？每一筆資料包含哪些欄位？\n",
    "2. 取出每一筆資料的「標題」、「貼文時間」、「留言人數」、「按讚人數」\n",
    "3. 計算熱門/非熱門文章的「平均留言人數」與「平均按讚人數」"
   ]
  },
  {
   "cell_type": "code",
   "execution_count": 1,
   "metadata": {},
   "outputs": [
    {
     "name": "stdout",
     "output_type": "stream",
     "text": [
      "30筆\n",
      "id\n",
      "title\n",
      "excerpt\n",
      "anonymousSchool\n",
      "anonymousDepartment\n",
      "pinned\n",
      "forumId\n",
      "replyId\n",
      "createdAt\n",
      "updatedAt\n",
      "commentCount\n",
      "likeCount\n",
      "withNickname\n",
      "tags\n",
      "topics\n",
      "meta\n",
      "forumName\n",
      "forumAlias\n",
      "gender\n",
      "school\n",
      "department\n",
      "replyTitle\n",
      "mediaMeta\n",
      "reactions\n",
      "hidden\n",
      "customStyle\n",
      "isSuspiciousAccount\n",
      "layout\n",
      "withImages\n",
      "withVideos\n",
      "media\n",
      "reportReasonText\n",
      "postAvatar\n"
     ]
    }
   ],
   "source": [
    "# 1. 這個 API 一次會回傳幾筆資料？每一筆資料包含哪些欄位？\n",
    "\n",
    "import requests\n",
    "r = requests.get('https://www.dcard.tw/_api/forums/pet/posts?popular=true')\n",
    "\n",
    "import json\n",
    "data = json.loads(r.text)\n",
    "print(str(len(data))+\"筆\")\n",
    "\n",
    "for column in data[0].keys():\n",
    "    print(column)"
   ]
  },
  {
   "cell_type": "code",
   "execution_count": 2,
   "metadata": {},
   "outputs": [
    {
     "name": "stdout",
     "output_type": "stream",
     "text": [
      "標題: 自己的玩具自己收 貼文時間: 2019-12-13T07:29:01.856Z 留言人數: 23 按讚人數: 688\n",
      "標題: 霸氣貓出巡啦😼😼 貼文時間: 2019-12-13T03:35:45.932Z 留言人數: 7 按讚人數: 259\n",
      "標題: ⭐️養一隻緬因貓是什麼感覺⭐️ 貼文時間: 2019-12-13T08:26:49.371Z 留言人數: 5 按讚人數: 192\n",
      "標題: 6天7份，我該怎麼辦😭 貼文時間: 2019-12-12T23:39:26.497Z 留言人數: 14 按讚人數: 153\n",
      "標題: 橘貓控請進~ 貼文時間: 2019-12-13T08:50:29.624Z 留言人數: 12 按讚人數: 138\n",
      "標題: 跟貓貓狗狗來一場交換禮物派對🎉 貼文時間: 2019-12-13T01:56:18.522Z 留言人數: 0 按讚人數: 107\n",
      "標題: 我的原則很簡單，有貓就是買爆 貼文時間: 2019-12-13T10:28:23.680Z 留言人數: 20 按讚人數: 90\n",
      "標題: 18歲雪納瑞還有多少明天 貼文時間: 2019-12-13T18:28:25.842Z 留言人數: 4 按讚人數: 63\n",
      "標題: 大哥你的倉鼠交出來！！ 貼文時間: 2019-12-13T09:07:00.561Z 留言人數: 0 按讚人數: 61\n",
      "標題: 他養了六年但我養八年了 貼文時間: 2019-12-13T13:39:09.131Z 留言人數: 5 按讚人數: 44\n",
      "標題: 脖子？ 貼文時間: 2019-12-13T09:40:15.330Z 留言人數: 1 按讚人數: 37\n",
      "標題: 分享：貓瘟5日療程 貼文時間: 2019-12-13T07:36:00.733Z 留言人數: 0 按讚人數: 30\n",
      "標題: #急 #嘉義 疑似走失的柯基 貼文時間: 2019-12-13T03:39:35.139Z 留言人數: 6 按讚人數: 25\n",
      "標題: 每天被我黑的貓 貼文時間: 2019-12-13T07:03:13.502Z 留言人數: 2 按讚人數: 22\n",
      "標題: #貓 無法抵盪的肉球/肉掌照們 貼文時間: 2019-12-13T04:29:05.341Z 留言人數: 12 按讚人數: 22\n",
      "標題: 兩個月半柴寶貝🐶 貼文時間: 2019-12-13T08:23:30.520Z 留言人數: 3 按讚人數: 19\n",
      "標題: 台中南區 狗 協尋 貼文時間: 2019-12-14T08:40:14.301Z 留言人數: 0 按讚人數: 17\n",
      "標題: 好想吃大福 貼文時間: 2019-12-13T14:19:00.776Z 留言人數: 3 按讚人數: 17\n",
      "標題: 當貓咪的生活 貼文時間: 2019-12-14T06:21:33.399Z 留言人數: 2 按讚人數: 14\n",
      "標題: 愛貓貓來哦 貼文時間: 2019-12-14T02:52:13.001Z 留言人數: 0 按讚人數: 14\n",
      "標題: 養狗前請要做功課 貼文時間: 2019-12-13T20:02:37.147Z 留言人數: 6 按讚人數: 11\n",
      "標題: 我的小刺蝟 貼文時間: 2019-12-14T09:09:20.390Z 留言人數: 0 按讚人數: 10\n",
      "標題: 怎麼教小貓收抓子 貼文時間: 2019-12-13T04:01:49.974Z 留言人數: 3 按讚人數: 10\n",
      "標題: 又來曬貓了！ 貼文時間: 2019-12-13T14:18:03.885Z 留言人數: 4 按讚人數: 9\n",
      "標題: 老鼠給你們養真可憐 貼文時間: 2019-12-14T07:11:15.809Z 留言人數: 5 按讚人數: 8\n",
      "標題: 悲劇！家貓被剪耳剃毛挨告不起訴 貼文時間: 2019-12-13T21:32:18.181Z 留言人數: 5 按讚人數: 7\n",
      "標題: 高難度瑜伽🧘‍♀️ 貼文時間: 2019-12-13T17:57:42.041Z 留言人數: 0 按讚人數: 7\n",
      "標題: 我家有自拍高手？！！！！ 貼文時間: 2019-12-13T14:59:22.155Z 留言人數: 0 按讚人數: 7\n",
      "標題: 貓咪喜歡尿棉被 貼文時間: 2019-12-13T07:10:11.293Z 留言人數: 6 按讚人數: 7\n",
      "標題: 不要再給我尿床啦！ 貼文時間: 2019-12-14T08:14:39.892Z 留言人數: 2 按讚人數: 6\n"
     ]
    }
   ],
   "source": [
    "# 2. 取出每一筆資料的「標題」、「貼文時間」、「留言人數」、「按讚人數」\n",
    "\n",
    "for item in data:\n",
    "    print ('標題:', item['title'], '貼文時間:', item['createdAt'], '留言人數:', item['commentCount'], '按讚人數:', item['likeCount'])"
   ]
  },
  {
   "cell_type": "code",
   "execution_count": 3,
   "metadata": {},
   "outputs": [
    {
     "name": "stdout",
     "output_type": "stream",
     "text": [
      "熱門文章平均留言人數: 5.0 熱門文章平均按讚人數: 69.8\n",
      "非熱門文章平均留言人數: 2.533333333333333 非熱門文章平均按讚人數: 9.066666666666666\n"
     ]
    }
   ],
   "source": [
    "# 3. 計算熱門/非熱門文章的「平均留言人數」與「平均按讚人數」\n",
    "\n",
    "pComment = 0\n",
    "pLike = 0\n",
    "for item in data:\n",
    "    pComment += item['commentCount']\n",
    "    pLike += item['likeCount']\n",
    "\n",
    "r2 = requests.get('https://www.dcard.tw/_api/forums/pet/posts?popular=false')\n",
    "data2 = json.loads(r2.text)\n",
    "\n",
    "npComment = 0\n",
    "npLike = 0\n",
    "for item2 in data2:\n",
    "    npComment += item2['commentCount']\n",
    "    npLike += item2['likeCount']\n",
    "\n",
    "print('熱門文章平均留言人數:', pComment/30, '熱門文章平均按讚人數:', pLike/30)\n",
    "print('非熱門文章平均留言人數:', npComment/30, '非熱門文章平均按讚人數:', npLike/30)"
   ]
  }
 ],
 "metadata": {
  "kernelspec": {
   "display_name": "Python 3",
   "language": "python",
   "name": "python3"
  },
  "language_info": {
   "codemirror_mode": {
    "name": "ipython",
    "version": 3
   },
   "file_extension": ".py",
   "mimetype": "text/x-python",
   "name": "python",
   "nbconvert_exporter": "python",
   "pygments_lexer": "ipython3",
   "version": "3.7.4"
  }
 },
 "nbformat": 4,
 "nbformat_minor": 2
}
