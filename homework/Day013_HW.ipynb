{
 "cells": [
  {
   "cell_type": "markdown",
   "metadata": {},
   "source": [
    "# PTT 網路爬蟲實作練習\n",
    "\n",
    "\n",
    "* 能夠利用 Request + BeatifulSour 撰寫爬蟲，並存放到合適的資料結構\n"
   ]
  },
  {
   "cell_type": "markdown",
   "metadata": {},
   "source": [
    "## 作業目標\n",
    "\n",
    "根據範例 ，完成以下問題：\n",
    "\n",
    "* ① 印出最新文章的「作者」「標題」「時間」\n",
    "* ② 印出第一頁所有文章的「作者」「標題」「時間」\n"
   ]
  },
  {
   "cell_type": "markdown",
   "metadata": {},
   "source": [
    "### ① 印出最新文章的「作者」「標題」「時間」"
   ]
  },
  {
   "cell_type": "code",
   "execution_count": 1,
   "metadata": {},
   "outputs": [
    {
     "name": "stdout",
     "output_type": "stream",
     "text": [
      "標題: [新聞] 金童唐西奇將傷癒回歸  27日戰馬刺有望上\n",
      "作者: teramars (tomorrow never knows)\n",
      "時間: Wed Dec 25 11:50:30 2019\n"
     ]
    }
   ],
   "source": [
    "import requests\n",
    "from bs4 import BeautifulSoup\n",
    "\n",
    "url = 'https://www.ptt.cc/bbs/NBA/index.html'\n",
    "r = requests.get(url)\n",
    "\n",
    "soup = BeautifulSoup(r.text, \"html5lib\")\n",
    "\n",
    "for item in soup.find_all(class_=\"title\"):\n",
    "    try:\n",
    "        print('標題:', item.text.replace('\\t', '').replace('\\n', ''))\n",
    "        \n",
    "        detail = BeautifulSoup(requests.get('https://www.ptt.cc' + item.find('a')['href']).text, \"html5lib\")\n",
    "        print('作者:', detail.find(class_='article-meta-value').text)\n",
    "        print('時間:', detail.find_all(class_='article-meta-value')[-1].text)\n",
    "        break\n",
    "    except:\n",
    "        continue\n"
   ]
  },
  {
   "cell_type": "markdown",
   "metadata": {},
   "source": [
    "### ② 印出第一頁所有文章的「作者」「標題」「時間」"
   ]
  },
  {
   "cell_type": "code",
   "execution_count": 2,
   "metadata": {},
   "outputs": [
    {
     "name": "stdout",
     "output_type": "stream",
     "text": [
      "標題: [新聞] 金童唐西奇將傷癒回歸  27日戰馬刺有望上\n",
      "作者: teramars (tomorrow never knows)\n",
      "時間: Wed Dec 25 11:50:30 2019\n",
      "標題: [公告] 板規v6.7\n",
      "標題: [公告] 樂透取消及未來不再開啟樂透\n",
      "作者: Vedan (味丹)\n",
      "時間: Mon Jun 24 15:08:02 2019\n",
      "標題: [公告] 版主上任相關事項 \n",
      "作者: qazwsx879345 (Rajon Rondo)\n",
      "時間: Fri Oct 25 10:44:03 2019\n",
      "標題: [情報] SEASON Schedule 賽程 December 19–20\n",
      "作者: JerroLi (銀色小刀)\n",
      "時間: Fri Nov 29 00:46:01 2019\n"
     ]
    }
   ],
   "source": [
    "url = 'https://www.ptt.cc/bbs/NBA/index.html'\n",
    "r = requests.get(url)\n",
    "\n",
    "soup = BeautifulSoup(r.text, \"html5lib\")\n",
    "\n",
    "for item in soup.find_all(class_=\"title\"):\n",
    "    try:\n",
    "        print('標題:', item.text.replace('\\t', '').replace('\\n', ''))\n",
    "        \n",
    "        detail = BeautifulSoup(requests.get('https://www.ptt.cc' + item.find('a')['href']).text, \"html5lib\")\n",
    "        print('作者:', detail.find(class_='article-meta-value').text)\n",
    "        print('時間:', detail.find_all(class_='article-meta-value')[-1].text)\n",
    "        \n",
    "    except:\n",
    "        continue"
   ]
  },
  {
   "cell_type": "markdown",
   "metadata": {},
   "source": [
    "### ③ 試著爬爬看其他版的文章"
   ]
  },
  {
   "cell_type": "code",
   "execution_count": 3,
   "metadata": {},
   "outputs": [
    {
     "name": "stdout",
     "output_type": "stream",
     "text": [
      "標題: [問卷] 2019 網路業產品工作者年末大調查\n",
      "作者: annedoo (安安)\n",
      "時間: Sat Dec 21 14:11:46 2019\n",
      "標題: (本文已被刪除) [dream1124]\n",
      "標題: [請益] 專案職\n",
      "作者: dma2012 (Bright)\n",
      "時間: Sun Dec 22 05:51:30 2019\n",
      "標題: [心得] 學士面試心得 緯創軟體/神準科技/仁寶\n",
      "作者: youngle37 (YoungLe)\n",
      "時間: Sun Dec 22 16:29:54 2019\n",
      "標題: (已被MOONY135刪除) <pig2014>天馬流星拳\n",
      "標題: Re: [心得] 學士面試心得 緯創軟體/神準科技/仁寶\n",
      "作者: youngle37 (YoungLe)\n",
      "時間: Mon Dec 23 14:07:43 2019\n",
      "標題: [徵才] Edony A.I.徵智能系統設計師(35-40k/Jr.)\n",
      "作者: avonasac0800 (Adolph)\n",
      "時間: Mon Dec 23 14:25:47 2019\n",
      "標題: (本文已被刪除) [baobomb]\n",
      "標題: (本文已被刪除) [baobomb]\n",
      "標題: [心得] 新加坡Grab面試工作分享\n",
      "作者: baobomb (baobomb)\n",
      "時間: Mon Dec 23 17:42:48 2019\n",
      "標題: Re: [心得] 學士面試心得 緯創軟體/神準科技/仁寶\n",
      "作者: jenocool ()\n",
      "時間: Mon Dec 23 19:04:51 2019\n",
      "標題: [公告] pig2014 珍惜在軟工版發言的時間\n",
      "作者: MOONY135 (談無慾)\n",
      "時間: Mon Dec 23 20:45:07 2019\n",
      "標題: [請益] 畢業一年多發展請益 研究所or求職?\n",
      "作者: AOrigin (AOrigin)\n",
      "時間: Mon Dec 23 20:45:23 2019\n",
      "標題: [新聞] 七期博奕業者聘私校生每月爽領15萬\n",
      "作者: tw689 (台灣689)\n",
      "時間: Mon Dec 23 23:49:45 2019\n",
      "標題: [心得] Playsee面試心得\n",
      "作者: NCTU5566 (交大彭于晏)\n",
      "時間: Tue Dec 24 11:17:53 2019\n",
      "標題: [徵才] Easyship/Mid-level Back End Developer\n",
      "作者: anneju ()\n",
      "時間: Tue Dec 24 13:37:54 2019\n",
      "標題: [請益] RD轉行\n",
      "作者: yslimit (small)\n",
      "時間: Tue Dec 24 14:54:14 2019\n",
      "標題: [徵才] 高雄/圓周律資訊/Web Developer\n",
      "作者: frugal (max)\n",
      "時間: Tue Dec 24 17:51:45 2019\n",
      "標題: Re: [心得] Playsee面試心得\n",
      "作者: NCTU5566 (交大彭于晏)\n",
      "時間: Tue Dec 24 20:58:28 2019\n",
      "標題: [討論] 該不該念完資管所\n",
      "作者: futureroad99 (hello)\n",
      "時間: Tue Dec 24 22:51:59 2019\n",
      "標題: [公告] 本板板規  2017/4/10更新\n",
      "作者: MOONY135 (談無慾)\n",
      "時間: Fri Aug  4 14:18:53 2017\n",
      "標題: [公告] 徵才不符板規或徵才自刪公司\n",
      "作者: MOONY135 (談無慾)\n",
      "時間: Fri Aug  4 14:21:30 2017\n",
      "標題: [情報] 訓練課程與付費APP與網站分享\n",
      "作者: MOONY135 (談無慾)\n",
      "時間: Fri Aug  4 19:49:16 2017\n",
      "標題: [情報] 社群活動與免費APP與網站分享\n",
      "作者: MOONY135 (談無慾)\n",
      "時間: Fri Aug  4 19:50:43 2017\n",
      "標題: Fw: [公告] 請使用安全的連線方式連線本站\n",
      "作者: MOONY135 (談無慾)\n",
      "時間: Sun Nov 24 22:43:44 2019\n"
     ]
    }
   ],
   "source": [
    "url = 'https://www.ptt.cc/bbs/soft_job/index.html'\n",
    "r = requests.get(url)\n",
    "\n",
    "soup = BeautifulSoup(r.text, \"html5lib\")\n",
    "\n",
    "for item in soup.find_all(class_=\"title\"):\n",
    "    try:\n",
    "        print('標題:', item.text.replace('\\t', '').replace('\\n', ''))\n",
    "        \n",
    "        detail = BeautifulSoup(requests.get('https://www.ptt.cc' + item.find('a')['href']).text, \"html5lib\")\n",
    "        print('作者:', detail.find(class_='article-meta-value').text)\n",
    "        print('時間:', detail.find_all(class_='article-meta-value')[-1].text)\n",
    "        \n",
    "    except:\n",
    "        continue"
   ]
  },
  {
   "cell_type": "code",
   "execution_count": null,
   "metadata": {},
   "outputs": [],
   "source": []
  }
 ],
 "metadata": {
  "kernelspec": {
   "display_name": "Python 3",
   "language": "python",
   "name": "python3"
  },
  "language_info": {
   "codemirror_mode": {
    "name": "ipython",
    "version": 3
   },
   "file_extension": ".py",
   "mimetype": "text/x-python",
   "name": "python",
   "nbconvert_exporter": "python",
   "pygments_lexer": "ipython3",
   "version": "3.7.4"
  }
 },
 "nbformat": 4,
 "nbformat_minor": 2
}
