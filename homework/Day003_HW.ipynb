{
 "cells": [
  {
   "cell_type": "markdown",
   "metadata": {},
   "source": [
    "# Python 下載XML檔案與解析\n",
    "\n",
    "\n",
    "* 了解 xml 檔案格式與內容\n",
    "* 能夠利用套件存取 xml 格式的檔案\n"
   ]
  },
  {
   "cell_type": "markdown",
   "metadata": {},
   "source": [
    "## 作業目標\n",
    "\n",
    "* 比較一下範例檔案中的「File I/O」與「xmltodict」讀出來的內容有什麼差異\n",
    "\n",
    "* 根據範例檔案的結果：\n",
    "    1. 請問高雄市有多少地區有溫度資料？\n",
    "    2. 請取出每一個地區所記錄的第一個時間點跟溫度\n",
    "    3. 請取出第一個地區所記錄的每一個時間點跟溫度"
   ]
  },
  {
   "cell_type": "markdown",
   "metadata": {},
   "source": [
    "### 比較一下範例檔案中的「File I/O」與「xmltodict」讀出來的內容有什麼差異\n"
   ]
  },
  {
   "cell_type": "markdown",
   "metadata": {},
   "source": [
    "* File I/O:\n",
    "        用像是html的tag的方式來取得資料內容。\n",
    "* xmltodict:\n",
    "        讀出來的資料以dictionary的方式儲存，會有對應的key/value。"
   ]
  },
  {
   "cell_type": "markdown",
   "metadata": {},
   "source": [
    "### 根據範例檔案的結果：\n",
    "\n",
    "1. 請問高雄市有多少地區有溫度資料？\n",
    "2. 請取出每一個地區所記錄的第一個時間點跟溫度\n",
    "3. 請取出第一個地區所記錄的每一個時間點跟溫度"
   ]
  },
  {
   "cell_type": "code",
   "execution_count": 1,
   "metadata": {},
   "outputs": [],
   "source": [
    "import xmltodict"
   ]
  },
  {
   "cell_type": "code",
   "execution_count": 2,
   "metadata": {},
   "outputs": [
    {
     "name": "stdout",
     "output_type": "stream",
     "text": [
      "38\n"
     ]
    }
   ],
   "source": [
    "# 1. 請問高雄市有多少地區有溫度資料？\n",
    "fh = open(\"./data/HW003/64_72hr_CH.xml\", \"r\", encoding = 'UTF-8')\n",
    "xml = fh.read()\n",
    "fh.close()\n",
    "\n",
    "xmldata = dict(xmltodict.parse(xml))\n",
    "\n",
    "locations = xmldata['cwbopendata']['dataset']['locations']['location']\n",
    "\n",
    "print(len(locations))"
   ]
  },
  {
   "cell_type": "code",
   "execution_count": 3,
   "metadata": {},
   "outputs": [
    {
     "name": "stdout",
     "output_type": "stream",
     "text": [
      "鹽埕區: 33度 2019-06-28T12:00:00+08:00\n",
      "鼓山區: 33度 2019-06-28T12:00:00+08:00\n",
      "左營區: 33度 2019-06-28T12:00:00+08:00\n",
      "楠梓區: 34度 2019-06-28T12:00:00+08:00\n",
      "三民區: 32度 2019-06-28T12:00:00+08:00\n",
      "新興區: 33度 2019-06-28T12:00:00+08:00\n",
      "前金區: 33度 2019-06-28T12:00:00+08:00\n",
      "苓雅區: 33度 2019-06-28T12:00:00+08:00\n",
      "前鎮區: 33度 2019-06-28T12:00:00+08:00\n",
      "旗津區: 32度 2019-06-28T12:00:00+08:00\n",
      "小港區: 33度 2019-06-28T12:00:00+08:00\n",
      "鳳山區: 34度 2019-06-28T12:00:00+08:00\n",
      "林園區: 33度 2019-06-28T12:00:00+08:00\n",
      "大寮區: 34度 2019-06-28T12:00:00+08:00\n",
      "大樹區: 34度 2019-06-28T12:00:00+08:00\n",
      "大社區: 34度 2019-06-28T12:00:00+08:00\n",
      "仁武區: 33度 2019-06-28T12:00:00+08:00\n",
      "鳥松區: 34度 2019-06-28T12:00:00+08:00\n",
      "岡山區: 34度 2019-06-28T12:00:00+08:00\n",
      "橋頭區: 35度 2019-06-28T12:00:00+08:00\n",
      "燕巢區: 34度 2019-06-28T12:00:00+08:00\n",
      "田寮區: 34度 2019-06-28T12:00:00+08:00\n",
      "阿蓮區: 34度 2019-06-28T12:00:00+08:00\n",
      "路竹區: 33度 2019-06-28T12:00:00+08:00\n",
      "湖內區: 33度 2019-06-28T12:00:00+08:00\n",
      "茄萣區: 33度 2019-06-28T12:00:00+08:00\n",
      "永安區: 32度 2019-06-28T12:00:00+08:00\n",
      "彌陀區: 32度 2019-06-28T12:00:00+08:00\n",
      "梓官區: 32度 2019-06-28T12:00:00+08:00\n",
      "旗山區: 34度 2019-06-28T12:00:00+08:00\n",
      "美濃區: 34度 2019-06-28T12:00:00+08:00\n",
      "六龜區: 34度 2019-06-28T12:00:00+08:00\n",
      "甲仙區: 33度 2019-06-28T12:00:00+08:00\n",
      "杉林區: 36度 2019-06-28T12:00:00+08:00\n",
      "內門區: 34度 2019-06-28T12:00:00+08:00\n",
      "茂林區: 34度 2019-06-28T12:00:00+08:00\n",
      "桃源區: 31度 2019-06-28T12:00:00+08:00\n",
      "那瑪夏區: 29度 2019-06-28T12:00:00+08:00\n"
     ]
    }
   ],
   "source": [
    "# 2. 請取出每一個地區所記錄的第一個時間點跟溫度\n",
    "\n",
    "for l in locations:\n",
    "    print(l['locationName'] + ': ', end = '')\n",
    "    weathers = l['weatherElement']\n",
    "    for w in weathers:\n",
    "        if 'time' in w:\n",
    "            if 'dataTime' in w['time'][0]:\n",
    "                if (w['time'][0]['elementValue']['measures'] == '攝氏度'):\n",
    "                    print(w['time'][0]['elementValue']['value']+'度 ', end = '')\n",
    "                print(w['time'][0]['dataTime'])\n",
    "                break"
   ]
  },
  {
   "cell_type": "code",
   "execution_count": 4,
   "metadata": {},
   "outputs": [
    {
     "name": "stdout",
     "output_type": "stream",
     "text": [
      "鹽埕區\n",
      "33度 2019-06-28T12:00:00+08:00\n",
      "33度 2019-06-28T15:00:00+08:00\n",
      "32度 2019-06-28T18:00:00+08:00\n",
      "30度 2019-06-28T21:00:00+08:00\n",
      "30度 2019-06-29T00:00:00+08:00\n",
      "29度 2019-06-29T03:00:00+08:00\n",
      "28度 2019-06-29T06:00:00+08:00\n",
      "31度 2019-06-29T09:00:00+08:00\n",
      "32度 2019-06-29T12:00:00+08:00\n",
      "32度 2019-06-29T15:00:00+08:00\n",
      "31度 2019-06-29T18:00:00+08:00\n",
      "30度 2019-06-29T21:00:00+08:00\n",
      "29度 2019-06-30T00:00:00+08:00\n",
      "28度 2019-06-30T03:00:00+08:00\n",
      "28度 2019-06-30T06:00:00+08:00\n",
      "31度 2019-06-30T09:00:00+08:00\n",
      "32度 2019-06-30T12:00:00+08:00\n",
      "32度 2019-06-30T15:00:00+08:00\n",
      "31度 2019-06-30T18:00:00+08:00\n",
      "30度 2019-06-30T21:00:00+08:00\n",
      "29度 2019-07-01T00:00:00+08:00\n",
      "29度 2019-07-01T03:00:00+08:00\n",
      "28度 2019-07-01T06:00:00+08:00\n",
      "31度 2019-07-01T09:00:00+08:00\n"
     ]
    }
   ],
   "source": [
    "# 3. 請取出第一個地區所記錄的每一個時間點跟溫度\n",
    "print(locations[0]['locationName'])\n",
    "for w in locations[0]['weatherElement']:\n",
    "    if (w['description'] == '溫度'):\n",
    "        for t in w['time']:\n",
    "            if (t['elementValue']['measures'] == '攝氏度'):\n",
    "                print (t['elementValue']['value'] + '度 ' + t['dataTime'])\n",
    "        break"
   ]
  },
  {
   "cell_type": "code",
   "execution_count": null,
   "metadata": {},
   "outputs": [],
   "source": []
  }
 ],
 "metadata": {
  "kernelspec": {
   "display_name": "Python 3",
   "language": "python",
   "name": "python3"
  },
  "language_info": {
   "codemirror_mode": {
    "name": "ipython",
    "version": 3
   },
   "file_extension": ".py",
   "mimetype": "text/x-python",
   "name": "python",
   "nbconvert_exporter": "python",
   "pygments_lexer": "ipython3",
   "version": "3.7.4"
  }
 },
 "nbformat": 4,
 "nbformat_minor": 2
}
